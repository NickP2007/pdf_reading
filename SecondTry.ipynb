{
 "cells": [
  {
   "cell_type": "code",
   "execution_count": 1,
   "id": "91756c16",
   "metadata": {},
   "outputs": [],
   "source": [
    "import re\n",
    "import pdfplumber\n",
    "import pandas as pd\n",
    "from collections import namedtuple"
   ]
  },
  {
   "cell_type": "code",
   "execution_count": 2,
   "id": "a1a9ab7e",
   "metadata": {},
   "outputs": [],
   "source": [
    "Line = namedtuple('Line', 'product_details ingredients usage_details performance_parameters physical_description shelf_life_storage')"
   ]
  },
  {
   "cell_type": "code",
   "execution_count": 29,
   "id": "db79e53c",
   "metadata": {},
   "outputs": [],
   "source": [
    "ingredient_re = re.compile(r'(INGREDIENTS:) (.*)')\n",
    "usage_re = re.compile(r'(USAGE DETAILS \\n) (.*\\n.*)')\n",
    "color_re = re.compile(r'(Color:) (.*)')\n",
    "flavor_re = re.compile(r'(Flavor:) (.*)')\n",
    "form_re = re.compile(r'(Form:) (.*)')\n",
    "storage_re.compile(r'(SHELF-LIFE & STORAGE)\\n(.*)')"
   ]
  },
  {
   "cell_type": "code",
   "execution_count": 33,
   "id": "1af249dc",
   "metadata": {},
   "outputs": [
    {
     "data": {
      "text/plain": [
       "'sugar Brown'"
      ]
     },
     "execution_count": 33,
     "metadata": {},
     "output_type": "execute_result"
    }
   ],
   "source": [
    "ingredient_re.search('INGREDIENTS: Dextrose, Natural Flavor, Silicon Dioxide.').group(2)\n",
    "color_re.search('Color: Light Tan').group(2)\n",
    "flavor_re.search('Flavor: sugar Brown').group(2)\n"
   ]
  },
  {
   "cell_type": "code",
   "execution_count": 8,
   "id": "8ad87c7a",
   "metadata": {},
   "outputs": [],
   "source": [
    "file = r\"C:\\Backup\\20609799_TDR_EN-US.pdf\""
   ]
  },
  {
   "cell_type": "code",
   "execution_count": 9,
   "id": "7692d7ca",
   "metadata": {},
   "outputs": [],
   "source": [
    "with pdfplumber.open(file) as pdf:\n",
    "    pages = pdf.pages\n",
    "    for page in pdf.pages:\n",
    "        text = page.extract_text()\n",
    "        for line in text.split('\\n'):\n",
    "            ingredient = ingredient_re.search(line)\n",
    "            if ingredient:\n",
    "                ingredients = ingredient.group(2)\n",
    "            \n",
    "            \n",
    "            "
   ]
  },
  {
   "cell_type": "code",
   "execution_count": null,
   "id": "85af879d",
   "metadata": {},
   "outputs": [],
   "source": []
  }
 ],
 "metadata": {
  "kernelspec": {
   "display_name": "Python 3 (ipykernel)",
   "language": "python",
   "name": "python3"
  },
  "language_info": {
   "codemirror_mode": {
    "name": "ipython",
    "version": 3
   },
   "file_extension": ".py",
   "mimetype": "text/x-python",
   "name": "python",
   "nbconvert_exporter": "python",
   "pygments_lexer": "ipython3",
   "version": "3.11.4"
  }
 },
 "nbformat": 4,
 "nbformat_minor": 5
}
